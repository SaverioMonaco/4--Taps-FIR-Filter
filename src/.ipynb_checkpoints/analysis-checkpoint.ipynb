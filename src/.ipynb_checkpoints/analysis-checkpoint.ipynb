{
 "cells": [
  {
   "cell_type": "markdown",
   "metadata": {},
   "source": [
    "# Implementation of FIR Filter in the FPGA"
   ]
  },
  {
   "cell_type": "code",
   "execution_count": 3,
   "metadata": {},
   "outputs": [],
   "source": [
    "import numpy as np\n",
    "from numpy import savetxt, loadtxt\n",
    "import matplotlib.pyplot as plt"
   ]
  },
  {
   "cell_type": "code",
   "execution_count": 5,
   "metadata": {},
   "outputs": [],
   "source": [
    "# Let us generate a wave function with two main frequencies, an high one and a low one:\n",
    "\n",
    "data_size = 200\n",
    "noise = 1 # the higher the noisier\n",
    "\n",
    "\n",
    "input_sig = []\n",
    "\n",
    "for i in range(data_size):\n",
    "    sig = 62*(np.sin(i/10)+ noise)\n",
    "    noise = -noise\n",
    "    input_sig.append(sig.astype(int)) # we write it as an int"
   ]
  },
  {
   "cell_type": "code",
   "execution_count": null,
   "metadata": {},
   "outputs": [],
   "source": [
    "# Now we visualize it:\n",
    "\n",
    "t = np.arange(len(input_sig)) # array for the x coordinate, just for displaying\n",
    "\n",
    "plt.figure(figsize=(15, 5))\n",
    "\n",
    "plt.plot(t, input_sig, '-o',alpha=.6,label='raw signal')\n",
    "plt.legend(loc=\"upper left\")"
   ]
  },
  {
   "cell_type": "code",
   "execution_count": null,
   "metadata": {},
   "outputs": [],
   "source": [
    "# After being computed on the actual FPGA"
   ]
  },
  {
   "cell_type": "code",
   "execution_count": null,
   "metadata": {},
   "outputs": [],
   "source": [
    "# I just copied from the terminal, had some problems in reading from a file :/\n",
    "fpga = [0,0,0,0,0,6,0,0,0,0,0,0,0,0,0,6,12,13,13,13,13,13,13,13,13,13,14,14,14,14,14,14,14,14,13,8,2,2,2,2,2,2,2,2,1,-5,-11,-12,-12,-12,-12,-12,-12,-12,-12,-14,-15,-15,-15,-15,-15,-15,-15,-15,-15,-10,-5,-5,-5,-5,-5,-5,-5,-5,-4,2,9,10,10,10,10,10,10,10,10,12,15,15,15,15,15,15,15,15,14,10,6,6,6,6,6,6,6,6,5,-1,-8,-9,-9,-9,-9,-9,-9,-9,-9,-12,-16,-16,-16,-16,-16,-16,-16,-16,-16,-12,-9,-9,-9,-9,-9,-9,-9,-9,-8,-1,5,6,6,6,6,6,6,6,7,11,14,15,15,15,15,15,15,15,15,12,10,10,10,10,10,10,10,10,9,2,-4,-5,-5,-5,-5,-5,-5,-5,-5,-10,-15,-15,-15,-15,-15,-15,-15,-15,-15,-14,-12,-12,-12,-12,-12,-12,-12,-12,-11,-5,1,2,2,2]\n",
    "for i in range(len(fpga)):\n",
    "    # 2**10 due to truncation of bits\n",
    "    # 2**9 because I multiplied the coefficients by 2**9\n",
    "    fpga[i] = (2**10/2**9)*fpga[i]"
   ]
  },
  {
   "cell_type": "code",
   "execution_count": null,
   "metadata": {},
   "outputs": [],
   "source": [
    "plt.figure(figsize=(15, 5))\n",
    "\n",
    "t = np.arange(len(input_sig))\n",
    "plt.plot(t, input_sig, '-o',alpha=.6,label='raw signal')\n",
    "t = np.arange(len(fpga))\n",
    "plt.plot(t-8, fpga, '-o', color='g',alpha=.3,label='FPGA signal')\n",
    "#plt.title(\"\")\n",
    "plt.xlim(0,130) #just for the latex report\n",
    "plt.legend(loc=\"upper left\")"
   ]
  },
  {
   "cell_type": "code",
   "execution_count": null,
   "metadata": {},
   "outputs": [],
   "source": []
  }
 ],
 "metadata": {
  "kernelspec": {
   "display_name": "Python 3",
   "language": "python",
   "name": "python3"
  },
  "language_info": {
   "codemirror_mode": {
    "name": "ipython",
    "version": 3
   },
   "file_extension": ".py",
   "mimetype": "text/x-python",
   "name": "python",
   "nbconvert_exporter": "python",
   "pygments_lexer": "ipython3",
   "version": "3.8.5"
  }
 },
 "nbformat": 4,
 "nbformat_minor": 4
}
